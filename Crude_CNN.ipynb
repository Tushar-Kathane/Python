{
 "cells": [
  {
   "cell_type": "code",
   "execution_count": 1,
   "metadata": {},
   "outputs": [],
   "source": [
    "#importing libraries\n",
    "import pandas as pd\n",
    "import matplotlib.pyplot as plt\n",
    "import seaborn as sns\n",
    "import numpy as np\n",
    "from sklearn.model_selection import train_test_split\n",
    "import sklearn.metrics as metrics\n",
    "from sklearn.linear_model import LinearRegression\n",
    "from sklearn.preprocessing import StandardScaler\n",
    "from sklearn.preprocessing import MinMaxScaler"
   ]
  },
  {
   "cell_type": "code",
   "execution_count": 2,
   "metadata": {},
   "outputs": [],
   "source": [
    "df=pd.read_csv(\"Silvermic.csv\")"
   ]
  },
  {
   "cell_type": "code",
   "execution_count": 3,
   "metadata": {},
   "outputs": [
    {
     "data": {
      "text/plain": [
       "Date                   False\n",
       "Instrument Name        False\n",
       "Symbol                 False\n",
       "Expiry Date            False\n",
       "Option Type            False\n",
       "Strike Price           False\n",
       "Open                   False\n",
       "High                   False\n",
       "Low                    False\n",
       "Close                  False\n",
       "Previous Close         False\n",
       "Volume(Lots)           False\n",
       "Volume(In 000's)       False\n",
       "Value(Lacs)            False\n",
       "Open Interest(Lots)    False\n",
       "dtype: bool"
      ]
     },
     "execution_count": 3,
     "metadata": {},
     "output_type": "execute_result"
    }
   ],
   "source": [
    "df.isnull().any()"
   ]
  },
  {
   "cell_type": "code",
   "execution_count": 4,
   "metadata": {},
   "outputs": [],
   "source": [
    "dX=[]\n",
    "dY=[]\n",
    "dsize=df.shape[0]\n",
    "timeportion=7\n",
    "no_of_features=7"
   ]
  },
  {
   "cell_type": "code",
   "execution_count": null,
   "metadata": {},
   "outputs": [],
   "source": []
  },
  {
   "cell_type": "code",
   "execution_count": 5,
   "metadata": {},
   "outputs": [],
   "source": [
    "features=df['Close']"
   ]
  },
  {
   "cell_type": "code",
   "execution_count": 6,
   "metadata": {},
   "outputs": [],
   "source": [
    "#Scaling of data using MinMaxScaler function.\n",
    "X_Scaled=MinMaxScaler()\n",
    "Y=features.values\n",
    "Y=Y.reshape(-1,1)\n",
    "#Scaled_data=X_Scaled.fit_transform(Y)"
   ]
  },
  {
   "cell_type": "code",
   "execution_count": 7,
   "metadata": {},
   "outputs": [],
   "source": [
    "i=timeportion\n",
    "for i in range(i,dsize,1):\n",
    "    j=i-timeportion\n",
    "    for j in range(j,i,1):\n",
    "        dX.append(features[j])\n",
    "    dY.append(features[i])\n",
    "    \n"
   ]
  },
  {
   "cell_type": "code",
   "execution_count": 8,
   "metadata": {},
   "outputs": [
    {
     "data": {
      "text/plain": [
       "2519"
      ]
     },
     "execution_count": 8,
     "metadata": {},
     "output_type": "execute_result"
    }
   ],
   "source": [
    "dsize"
   ]
  },
  {
   "cell_type": "code",
   "execution_count": 9,
   "metadata": {},
   "outputs": [],
   "source": [
    "x=np.array(dX)\n",
    "dX=x.reshape(dsize-timeportion,no_of_features)"
   ]
  },
  {
   "cell_type": "code",
   "execution_count": 10,
   "metadata": {},
   "outputs": [
    {
     "data": {
      "text/plain": [
       "(2512, 7)"
      ]
     },
     "execution_count": 10,
     "metadata": {},
     "output_type": "execute_result"
    }
   ],
   "source": [
    "dX.shape"
   ]
  },
  {
   "cell_type": "code",
   "execution_count": 11,
   "metadata": {},
   "outputs": [],
   "source": [
    "y=np.array(dY)\n",
    "dY=y.reshape(-1,1)"
   ]
  },
  {
   "cell_type": "code",
   "execution_count": 12,
   "metadata": {},
   "outputs": [
    {
     "data": {
      "text/plain": [
       "(2512, 1)"
      ]
     },
     "execution_count": 12,
     "metadata": {},
     "output_type": "execute_result"
    }
   ],
   "source": [
    "dY.shape"
   ]
  },
  {
   "cell_type": "code",
   "execution_count": 13,
   "metadata": {},
   "outputs": [],
   "source": [
    "X_train, X_test, Y_train, Y_test = train_test_split(dX, dY, test_size = 0.20, random_state = 0)"
   ]
  },
  {
   "cell_type": "code",
   "execution_count": 14,
   "metadata": {},
   "outputs": [
    {
     "name": "stdout",
     "output_type": "stream",
     "text": [
      "No. of training examples: 2009 and its size is(7)\n",
      "No. of test examples : 503 and its size is(7)\n"
     ]
    }
   ],
   "source": [
    "#printing no of train and test examples and its size\n",
    "print(\"No. of training examples:\",X_train.shape[0],\"and its size is(%d)\"%(X_train.shape[1]))\n",
    "print(\"No. of test examples :\",X_test.shape[0],\"and its size is(%d)\"%(X_test.shape[1]))"
   ]
  },
  {
   "cell_type": "code",
   "execution_count": 15,
   "metadata": {},
   "outputs": [],
   "source": [
    "#nrows, ncols = X_train.shape\n",
    "#X_train = X_train.reshape(nrows, ncols, 1)\n",
    "#nrows1,ncols1=X_test.shape\n",
    "#X_test=X_test.reshape(nrows1,ncols1,1)"
   ]
  },
  {
   "cell_type": "code",
   "execution_count": 16,
   "metadata": {},
   "outputs": [],
   "source": [
    "X_Scaled=MinMaxScaler()\n",
    "Y_Scaled=MinMaxScaler()\n",
    "X_train=X_Scaled.fit_transform(X_train)\n",
    "Y_train=Y_Scaled.fit_transform(Y_train)\n",
    "X_test=X_Scaled.transform(X_test)\n",
    "Y_test=Y_Scaled.transform(Y_test)"
   ]
  },
  {
   "cell_type": "code",
   "execution_count": null,
   "metadata": {},
   "outputs": [],
   "source": []
  },
  {
   "cell_type": "code",
   "execution_count": 17,
   "metadata": {},
   "outputs": [
    {
     "name": "stderr",
     "output_type": "stream",
     "text": [
      "Using TensorFlow backend.\n"
     ]
    }
   ],
   "source": [
    "from keras.models import Sequential\n",
    "from keras.layers import Dense,Activation,Conv1D,MaxPooling1D,Flatten\n",
    "from keras.optimizers import SGD\n",
    "from keras.wrappers.scikit_learn import KerasClassifier\n",
    "from sklearn.model_selection import GridSearchCV\n",
    "\n",
    "\n"
   ]
  },
  {
   "cell_type": "code",
   "execution_count": 18,
   "metadata": {},
   "outputs": [],
   "source": [
    "#some model parameters\n",
    "output_dim=1\n",
    "input_dim=X_train.shape[1]\n",
    "batch_size=256\n",
    "nb_epoch=20"
   ]
  },
  {
   "cell_type": "code",
   "execution_count": 19,
   "metadata": {},
   "outputs": [],
   "source": [
    "# define MLP model\n",
    "model = Sequential()\n",
    "model.add(Dense(4, input_shape=(input_dim,), activation='relu', kernel_initializer='random_normal'))\n",
    "model.add(Dense(2,activation='sigmoid',kernel_initializer='random_normal'))\n",
    "\n",
    "model.add(Dense(1, activation='linear'))\n",
    "model.compile(loss='mse', optimizer='adam',metrics=['accuracy'])\n",
    "\n",
    "# define CNN Model\n",
    "#model=Sequential()\n",
    "##model.add(MaxPooling1D(pool_size=(1),strides=(1)))\n",
    "\n",
    "#model.add(Conv1D(2,2,border_mode=\"same\",activation='relu',kernel_initializer='he_uniform'))\n",
    "#model.add(MaxPooling1D(pool_size=(1),strides=(1)))\n",
    "\n",
    "#model.add(Flatten())\n",
    "#model.add(Dense(output_dim,activation='linear'))\n",
    "\n",
    "#model.compile(loss='mean_squared_error', optimizer='adam',metrics=['accuracy'])\n",
    "\n",
    "#def create_model(layers,activation):\n",
    " #   model=Sequential()\n",
    "  #  for i,nodes in enumerate(layers):\n",
    "   #     if i==0:\n",
    "    #        model.add(Conv1D(nodes,2,input_shape=(ncols,1),border_mode=\"same\",kernel_initializer='he_uniform'))\n",
    "     #       model.add(Activation(activation))\n",
    "      #      model.add(MaxPooling1D(pool_size=(1),strides=(1)))\n",
    "       # else:\n",
    "        #    model.add(Conv1D(nodes,2,kernel_initializer='he_uniform'))\n",
    "         #   model.add(Activation(activation))\n",
    "          #  model.add(MaxPooling1D(pool_size=(1),strides=(1)))\n",
    "    \n",
    "    #model.add(Flatten())\n",
    "    #model.add(Dense(1,activation='linear'))\n",
    "    #model.compile(optimizer='adam',loss='mean_squared_error',metrics=['accuracy'])\n",
    "    #return model\n",
    "\n",
    "#model=KerasClassifier(build_fn=create_model,verbose=1)\n"
   ]
  },
  {
   "cell_type": "code",
   "execution_count": 20,
   "metadata": {},
   "outputs": [
    {
     "name": "stdout",
     "output_type": "stream",
     "text": [
      "Train on 2009 samples, validate on 503 samples\n",
      "Epoch 1/20\n",
      "2009/2009 [==============================] - 0s 158us/step - loss: 0.2097 - accuracy: 4.9776e-04 - val_loss: 0.1513 - val_accuracy: 0.0000e+00\n",
      "Epoch 2/20\n",
      "2009/2009 [==============================] - 0s 71us/step - loss: 0.1166 - accuracy: 4.9776e-04 - val_loss: 0.0858 - val_accuracy: 0.0000e+00\n",
      "Epoch 3/20\n",
      "2009/2009 [==============================] - 0s 70us/step - loss: 0.0764 - accuracy: 4.9776e-04 - val_loss: 0.0626 - val_accuracy: 0.0000e+00\n",
      "Epoch 4/20\n",
      "2009/2009 [==============================] - 0s 72us/step - loss: 0.0610 - accuracy: 4.9776e-04 - val_loss: 0.0513 - val_accuracy: 0.0000e+00\n",
      "Epoch 5/20\n",
      "2009/2009 [==============================] - 0s 65us/step - loss: 0.0513 - accuracy: 4.9776e-04 - val_loss: 0.0430 - val_accuracy: 0.0000e+00\n",
      "Epoch 6/20\n",
      "2009/2009 [==============================] - 0s 66us/step - loss: 0.0434 - accuracy: 4.9776e-04 - val_loss: 0.0368 - val_accuracy: 0.0000e+00\n",
      "Epoch 7/20\n",
      "2009/2009 [==============================] - 0s 68us/step - loss: 0.0390 - accuracy: 4.9776e-04 - val_loss: 0.0339 - val_accuracy: 0.0000e+00\n",
      "Epoch 8/20\n",
      "2009/2009 [==============================] - 0s 73us/step - loss: 0.0365 - accuracy: 4.9776e-04 - val_loss: 0.0317 - val_accuracy: 0.0000e+00\n",
      "Epoch 9/20\n",
      "2009/2009 [==============================] - 0s 57us/step - loss: 0.0340 - accuracy: 4.9776e-04 - val_loss: 0.0292 - val_accuracy: 0.0000e+00\n",
      "Epoch 10/20\n",
      "2009/2009 [==============================] - 0s 64us/step - loss: 0.0312 - accuracy: 4.9776e-04 - val_loss: 0.0264 - val_accuracy: 0.0000e+00\n",
      "Epoch 11/20\n",
      "2009/2009 [==============================] - 0s 64us/step - loss: 0.0280 - accuracy: 4.9776e-04 - val_loss: 0.0234 - val_accuracy: 0.0000e+00\n",
      "Epoch 12/20\n",
      "2009/2009 [==============================] - 0s 58us/step - loss: 0.0246 - accuracy: 4.9776e-04 - val_loss: 0.0202 - val_accuracy: 0.0000e+00\n",
      "Epoch 13/20\n",
      "2009/2009 [==============================] - 0s 58us/step - loss: 0.0210 - accuracy: 4.9776e-04 - val_loss: 0.0171 - val_accuracy: 0.0000e+00\n",
      "Epoch 14/20\n",
      "2009/2009 [==============================] - 0s 63us/step - loss: 0.0176 - accuracy: 4.9776e-04 - val_loss: 0.0141 - val_accuracy: 0.0000e+00\n",
      "Epoch 15/20\n",
      "2009/2009 [==============================] - 0s 81us/step - loss: 0.0145 - accuracy: 4.9776e-04 - val_loss: 0.0115 - val_accuracy: 0.0000e+00\n",
      "Epoch 16/20\n",
      "2009/2009 [==============================] - 0s 76us/step - loss: 0.0117 - accuracy: 4.9776e-04 - val_loss: 0.0092 - val_accuracy: 0.0000e+00\n",
      "Epoch 17/20\n",
      "2009/2009 [==============================] - 0s 72us/step - loss: 0.0093 - accuracy: 4.9776e-04 - val_loss: 0.0073 - val_accuracy: 0.0000e+00\n",
      "Epoch 18/20\n",
      "2009/2009 [==============================] - 0s 87us/step - loss: 0.0075 - accuracy: 9.9552e-04 - val_loss: 0.0058 - val_accuracy: 0.0000e+00\n",
      "Epoch 19/20\n",
      "2009/2009 [==============================] - 0s 82us/step - loss: 0.0060 - accuracy: 9.9552e-04 - val_loss: 0.0047 - val_accuracy: 0.0000e+00\n",
      "Epoch 20/20\n",
      "2009/2009 [==============================] - 0s 89us/step - loss: 0.0049 - accuracy: 9.9552e-04 - val_loss: 0.0039 - val_accuracy: 0.0000e+00\n"
     ]
    }
   ],
   "source": [
    "#configuring model\n",
    "history=model.fit(X_train,Y_train,epochs=nb_epoch,verbose=1,validation_data=[X_test,Y_test])\n"
   ]
  },
  {
   "cell_type": "code",
   "execution_count": 21,
   "metadata": {},
   "outputs": [],
   "source": [
    "#layers=[[4,2],[4]]\n",
    "#activation=['sigmoid','relu']\n",
    "#param_grid=dict(layers=layers,activation=activation,batch_size=[32],epochs=[100])\n",
    "#grid=GridSearchCV(estimator=model,param_grid=param_grid)\n",
    "\n"
   ]
  },
  {
   "cell_type": "code",
   "execution_count": 22,
   "metadata": {},
   "outputs": [],
   "source": [
    "#grid_result=grid.fit(X_train,Y_train)"
   ]
  },
  {
   "cell_type": "code",
   "execution_count": 23,
   "metadata": {},
   "outputs": [],
   "source": [
    "#[grid_result.best_score_,grid_result.best_params_]"
   ]
  },
  {
   "cell_type": "code",
   "execution_count": 24,
   "metadata": {},
   "outputs": [
    {
     "name": "stdout",
     "output_type": "stream",
     "text": [
      "Train MSE : [0.004450135411520341, 0.0009955201530829072] Test MSE: [0.0038577338669515747, 0.0]\n"
     ]
    },
    {
     "data": {
      "image/png": "[encoded data removed]",
      "text/plain": [
       "<Figure size 432x288 with 1 Axes>"
      ]
     },
     "metadata": {
      "needs_background": "light"
     },
     "output_type": "display_data"
    }
   ],
   "source": [
    "train_mse = model.evaluate(X_train, Y_train, verbose=0)\n",
    "test_mse = model.evaluate(X_test, Y_test, verbose=0)\n",
    "print('Train MSE :',train_mse,'Test MSE:', test_mse)\n",
    "\n",
    "# plot loss during training\n",
    "\n",
    "loss_train=history.history['loss']\n",
    "loss_test=history.history['val_loss']\n",
    "plt.title('Training and Testing loss')\n",
    "plt.plot(loss_train,'g', label='train_loss')\n",
    "plt.plot(loss_test,'b', label='testing_loss')\n",
    "plt.xlabel('epochs')\n",
    "plt.ylabel('loss')\n",
    "plt.legend()\n",
    "plt.show()"
   ]
  },
  {
   "cell_type": "code",
   "execution_count": 25,
   "metadata": {},
   "outputs": [
    {
     "data": {
      "image/png": "[encoded data removed]",
      "text/plain": [
       "<Figure size 432x288 with 1 Axes>"
      ]
     },
     "metadata": {
      "needs_background": "light"
     },
     "output_type": "display_data"
    }
   ],
   "source": [
    "acc_train=history.history['accuracy']\n",
    "acc_test=history.history['val_accuracy']\n",
    "plt.title('Training and Testing accuracy')\n",
    "plt.plot(acc_train,'g', label='train_accuracy')\n",
    "plt.plot(acc_test,'b', label='testing_accuracy')\n",
    "plt.xlabel('epochs')\n",
    "plt.ylabel('accuracy')\n",
    "plt.legend()\n",
    "plt.show()"
   ]
  },
  {
   "cell_type": "code",
   "execution_count": 26,
   "metadata": {},
   "outputs": [],
   "source": [
    "df_Test1=pd.read_csv(\"Silvermic_Test.csv\")\n",
    "features1=df_Test1['Close']\n",
    "#Scaling of data using MinMaxScaler function.\n",
    "Y1=features1.values\n",
    "Y1=Y1.reshape(-1,1)\n",
    "#TestX=X_Scaled.fit_transform(Y1)"
   ]
  },
  {
   "cell_type": "code",
   "execution_count": 27,
   "metadata": {},
   "outputs": [],
   "source": [
    "#TestX.shape[0]"
   ]
  },
  {
   "cell_type": "code",
   "execution_count": 28,
   "metadata": {},
   "outputs": [],
   "source": [
    "dX1=[]\n",
    "dY1=[]\n",
    "dsize1=features1.shape[0]\n"
   ]
  },
  {
   "cell_type": "code",
   "execution_count": 29,
   "metadata": {},
   "outputs": [],
   "source": [
    "i=0\n",
    "j=0\n",
    "i=timeportion\n",
    "for i in range(i,dsize1,1):\n",
    "    j=i-timeportion\n",
    "    for j in range(j,i,1):\n",
    "        dX1.append(features1[j])\n",
    "    dY1.append(features1[i])"
   ]
  },
  {
   "cell_type": "code",
   "execution_count": 30,
   "metadata": {},
   "outputs": [],
   "source": [
    "x1=np.array(dX1)\n",
    "dX1=x1.reshape(dsize1-timeportion,no_of_features)"
   ]
  },
  {
   "cell_type": "code",
   "execution_count": 31,
   "metadata": {},
   "outputs": [],
   "source": [
    "#nrowst,ncolst=dX1.shape\n",
    "#dX1=dX1.reshape(nrowst,ncolst,1)"
   ]
  },
  {
   "cell_type": "code",
   "execution_count": 32,
   "metadata": {},
   "outputs": [
    {
     "data": {
      "text/plain": [
       "array([[42111, 41812, 42415, 42378, 43573, 43761, 43700],\n",
       "       [41812, 42415, 42378, 43573, 43761, 43700, 43549],\n",
       "       [42415, 42378, 43573, 43761, 43700, 43549, 43481],\n",
       "       [42378, 43573, 43761, 43700, 43549, 43481, 44607],\n",
       "       [43573, 43761, 43700, 43549, 43481, 44607, 47135],\n",
       "       [43761, 43700, 43549, 43481, 44607, 47135, 48138],\n",
       "       [43700, 43549, 43481, 44607, 47135, 48138, 49236],\n",
       "       [43549, 43481, 44607, 47135, 48138, 49236, 49490],\n",
       "       [43481, 44607, 47135, 48138, 49236, 49490, 47817],\n",
       "       [44607, 47135, 48138, 49236, 49490, 47817, 48785],\n",
       "       [47135, 48138, 49236, 49490, 47817, 48785, 48704],\n",
       "       [48138, 49236, 49490, 47817, 48785, 48704, 48284],\n",
       "       [49236, 49490, 47817, 48785, 48704, 48284, 48857],\n",
       "       [49490, 47817, 48785, 48704, 48284, 48857, 49023],\n",
       "       [47817, 48785, 48704, 48284, 48857, 49023, 50503],\n",
       "       [48785, 48704, 48284, 48857, 49023, 50503, 51012],\n",
       "       [48704, 48284, 48857, 49023, 50503, 51012, 49520],\n",
       "       [48284, 48857, 49023, 50503, 51012, 49520, 48914],\n",
       "       [48857, 49023, 50503, 51012, 49520, 48914, 49253]], dtype=int64)"
      ]
     },
     "execution_count": 32,
     "metadata": {},
     "output_type": "execute_result"
    }
   ],
   "source": [
    "dX1"
   ]
  },
  {
   "cell_type": "code",
   "execution_count": 33,
   "metadata": {},
   "outputs": [],
   "source": [
    "dX1=X_Scaled.fit_transform(dX1)"
   ]
  },
  {
   "cell_type": "code",
   "execution_count": 34,
   "metadata": {},
   "outputs": [
    {
     "data": {
      "text/plain": [
       "array([[0.03894243, 0.        , 0.00455385, 0.        , 0.01221617,\n",
       "        0.03717966, 0.0290798 ],\n",
       "       [0.        , 0.07853608, 0.        , 0.1384063 , 0.03717966,\n",
       "        0.0290798 , 0.00902935],\n",
       "       [0.07853608, 0.07371711, 0.14707692, 0.16018068, 0.0290798 ,\n",
       "        0.00902935, 0.        ],\n",
       "       [0.07371711, 0.2293566 , 0.17021538, 0.15311559, 0.00902935,\n",
       "        0.        , 0.14951534],\n",
       "       [0.2293566 , 0.25384215, 0.16270769, 0.13562659, 0.        ,\n",
       "        0.14951534, 0.48519453],\n",
       "       [0.25384215, 0.24589737, 0.14412308, 0.12775075, 0.14951534,\n",
       "        0.48519453, 0.61837737],\n",
       "       [0.24589737, 0.22623079, 0.13575385, 0.25816539, 0.48519453,\n",
       "        0.61837737, 0.76417474],\n",
       "       [0.22623079, 0.21737432, 0.27433846, 0.55096132, 0.61837737,\n",
       "        0.76417474, 0.79790201],\n",
       "       [0.21737432, 0.36402709, 0.58547692, 0.66712995, 0.76417474,\n",
       "        0.79790201, 0.57575355],\n",
       "       [0.36402709, 0.6932795 , 0.70892308, 0.7943016 , 0.79790201,\n",
       "        0.57575355, 0.70428894],\n",
       "       [0.6932795 , 0.82391248, 0.84406154, 0.82372018, 0.57575355,\n",
       "        0.70428894, 0.6935334 ],\n",
       "       [0.82391248, 0.96691847, 0.87532308, 0.62995136, 0.70428894,\n",
       "        0.6935334 , 0.63776391],\n",
       "       [0.96691847, 1.        , 0.66941538, 0.74206625, 0.6935334 ,\n",
       "        0.63776391, 0.71384942],\n",
       "       [1.        , 0.78210471, 0.78855385, 0.73268473, 0.63776391,\n",
       "        0.71384942, 0.73589165],\n",
       "       [0.78210471, 0.90817921, 0.77858462, 0.68403984, 0.71384942,\n",
       "        0.73589165, 0.93241269],\n",
       "       [0.90817921, 0.89762959, 0.72689231, 0.75040537, 0.73589165,\n",
       "        0.93241269, 1.        ],\n",
       "       [0.89762959, 0.84292785, 0.79741538, 0.76963169, 0.93241269,\n",
       "        1.        , 0.80188554],\n",
       "       [0.84292785, 0.91755666, 0.81784615, 0.94104702, 1.        ,\n",
       "        0.80188554, 0.72141814],\n",
       "       [0.91755666, 0.93917687, 1.        , 1.        , 0.80188554,\n",
       "        0.72141814, 0.76643208]])"
      ]
     },
     "execution_count": 34,
     "metadata": {},
     "output_type": "execute_result"
    }
   ],
   "source": [
    "dX1"
   ]
  },
  {
   "cell_type": "code",
   "execution_count": 35,
   "metadata": {},
   "outputs": [
    {
     "name": "stdout",
     "output_type": "stream",
     "text": [
      "[[0.08927186]\n",
      " [0.10499547]\n",
      " [0.12009954]\n",
      " [0.14683565]\n",
      " [0.21445912]\n",
      " [0.28769895]\n",
      " [0.3932531 ]\n",
      " [0.5037296 ]\n",
      " [0.5655302 ]\n",
      " [0.5655302 ]\n",
      " [0.5655302 ]\n",
      " [0.5655302 ]\n",
      " [0.5655302 ]\n",
      " [0.5655302 ]\n",
      " [0.5655302 ]\n",
      " [0.5655302 ]\n",
      " [0.5655302 ]\n",
      " [0.5655302 ]\n",
      " [0.5655302 ]]\n"
     ]
    }
   ],
   "source": [
    "Y_pred = model.predict(dX1)\n",
    "print(Y_pred)"
   ]
  },
  {
   "cell_type": "code",
   "execution_count": 36,
   "metadata": {},
   "outputs": [
    {
     "data": {
      "text/plain": [
       "array([[36613.81 ],\n",
       "       [37217.2  ],\n",
       "       [37796.82 ],\n",
       "       [38822.816],\n",
       "       [41417.87 ],\n",
       "       [44228.445],\n",
       "       [48279.086],\n",
       "       [52518.62 ],\n",
       "       [54890.22 ],\n",
       "       [54890.22 ],\n",
       "       [54890.22 ],\n",
       "       [54890.22 ],\n",
       "       [54890.22 ],\n",
       "       [54890.22 ],\n",
       "       [54890.22 ],\n",
       "       [54890.22 ],\n",
       "       [54890.22 ],\n",
       "       [54890.22 ],\n",
       "       [54890.22 ]], dtype=float32)"
      ]
     },
     "execution_count": 36,
     "metadata": {},
     "output_type": "execute_result"
    }
   ],
   "source": [
    "Y_pred_inverse=Y_Scaled.inverse_transform(Y_pred)\n",
    "Y_pred_inverse"
   ]
  }
 ],
 "metadata": {
  "kernelspec": {
   "display_name": "Python 3",
   "language": "python",
   "name": "python3"
  },
  "language_info": {
   "codemirror_mode": {
    "name": "ipython",
    "version": 3
   },
   "file_extension": ".py",
   "mimetype": "text/x-python",
   "name": "python",
   "nbconvert_exporter": "python",
   "pygments_lexer": "ipython3",
   "version": "3.7.3"
  }
 },
 "nbformat": 4,
 "nbformat_minor": 2
}
