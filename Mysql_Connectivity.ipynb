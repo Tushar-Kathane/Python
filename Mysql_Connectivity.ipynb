{
 "cells": [
  {
   "cell_type": "markdown",
   "metadata": {},
   "source": [
    "<b>MySQL Connectivity in Python</b>"
   ]
  },
  {
   "cell_type": "markdown",
   "metadata": {},
   "source": [
    "<b>Installing MySQL Module</b>"
   ]
  },
  {
   "cell_type": "code",
   "execution_count": null,
   "metadata": {},
   "outputs": [],
   "source": [
    "!pip install MySQL"
   ]
  },
  {
   "cell_type": "markdown",
   "metadata": {},
   "source": [
    "<b>Installing MySQL Connector</b>"
   ]
  },
  {
   "cell_type": "code",
   "execution_count": 3,
   "metadata": {
    "collapsed": true
   },
   "outputs": [
    {
     "name": "stdout",
     "output_type": "stream",
     "text": [
      "Collecting mysql-connector-python\n",
      "  Downloading https://files.pythonhosted.org/packages/32/92/aa9f928c09302be5897c8707264cb56ae2fad10425e37db04f2c4310781b/mysql_connector_python-8.0.21-cp37-cp37m-win_amd64.whl (809kB)\n",
      "Requirement already satisfied: protobuf>=3.0.0 in c:\\users\\tushar kathane\\anaconda3\\lib\\site-packages (from mysql-connector-python) (3.12.1)\n",
      "Requirement already satisfied: six>=1.9 in c:\\users\\tushar kathane\\anaconda3\\lib\\site-packages (from protobuf>=3.0.0->mysql-connector-python) (1.12.0)\n",
      "Requirement already satisfied: setuptools in c:\\users\\tushar kathane\\anaconda3\\lib\\site-packages (from protobuf>=3.0.0->mysql-connector-python) (41.0.1)\n",
      "Installing collected packages: mysql-connector-python\n",
      "Successfully installed mysql-connector-python-8.0.21\n"
     ]
    }
   ],
   "source": [
    "!pip install mysql-connector-python"
   ]
  },
  {
   "cell_type": "markdown",
   "metadata": {},
   "source": [
    "<b>Importing MySQL Connecotor and establishing connection with mysql</b>"
   ]
  },
  {
   "cell_type": "code",
   "execution_count": 59,
   "metadata": {},
   "outputs": [],
   "source": [
    "#Importing Mysql connector\n",
    "import mysql.connector as mysql"
   ]
  },
  {
   "cell_type": "code",
   "execution_count": 3,
   "metadata": {},
   "outputs": [],
   "source": [
    "db=mysql.connect(host=\"localhost\",user=\"root\",passwd=\"\")"
   ]
  },
  {
   "cell_type": "code",
   "execution_count": 4,
   "metadata": {},
   "outputs": [
    {
     "name": "stdout",
     "output_type": "stream",
     "text": [
      "<mysql.connector.connection.MySQLConnection object at 0x000000303E6B9978>\n"
     ]
    }
   ],
   "source": [
    "print(db)"
   ]
  },
  {
   "cell_type": "markdown",
   "metadata": {},
   "source": [
    "<b>Create and display Database</b>"
   ]
  },
  {
   "cell_type": "code",
   "execution_count": 5,
   "metadata": {},
   "outputs": [],
   "source": [
    "cursor=db.cursor()\n",
    "cursor.execute(\"create database Vehicle\")"
   ]
  },
  {
   "cell_type": "code",
   "execution_count": 6,
   "metadata": {},
   "outputs": [],
   "source": [
    "cursor.execute(\"show databases\")"
   ]
  },
  {
   "cell_type": "code",
   "execution_count": 7,
   "metadata": {},
   "outputs": [],
   "source": [
    "databases=cursor.fetchall()"
   ]
  },
  {
   "cell_type": "code",
   "execution_count": 8,
   "metadata": {},
   "outputs": [
    {
     "name": "stdout",
     "output_type": "stream",
     "text": [
      "[('information_schema',), ('imdb',), ('mysql',), ('performance_schema',), ('pharmacy',), ('sys',), ('tse',), ('vehicle',), ('wcdb',)]\n"
     ]
    }
   ],
   "source": [
    "print(databases)"
   ]
  },
  {
   "cell_type": "code",
   "execution_count": 9,
   "metadata": {},
   "outputs": [
    {
     "name": "stdout",
     "output_type": "stream",
     "text": [
      "('information_schema',)\n",
      "('imdb',)\n",
      "('mysql',)\n",
      "('performance_schema',)\n",
      "('pharmacy',)\n",
      "('sys',)\n",
      "('tse',)\n",
      "('vehicle',)\n",
      "('wcdb',)\n"
     ]
    }
   ],
   "source": [
    "for database in databases:\n",
    "    print(database)"
   ]
  },
  {
   "cell_type": "code",
   "execution_count": 11,
   "metadata": {},
   "outputs": [],
   "source": [
    "db=mysql.connect(host=\"localhost\",user=\"root\",passwd=\"\",database=\"Vehicle\")"
   ]
  },
  {
   "cell_type": "code",
   "execution_count": 12,
   "metadata": {},
   "outputs": [],
   "source": [
    "cursor=db.cursor()\n"
   ]
  },
  {
   "cell_type": "markdown",
   "metadata": {},
   "source": [
    "<b>Create and display Tables</b>"
   ]
  },
  {
   "cell_type": "code",
   "execution_count": 13,
   "metadata": {},
   "outputs": [],
   "source": [
    "cursor.execute(\"create table Car(Brand varchar(25),Name varchar(20),price integer(10))\")"
   ]
  },
  {
   "cell_type": "code",
   "execution_count": 14,
   "metadata": {},
   "outputs": [],
   "source": [
    "cursor.execute(\"show tables\")"
   ]
  },
  {
   "cell_type": "code",
   "execution_count": 15,
   "metadata": {},
   "outputs": [],
   "source": [
    "tables=cursor.fetchall()"
   ]
  },
  {
   "cell_type": "code",
   "execution_count": 16,
   "metadata": {},
   "outputs": [
    {
     "name": "stdout",
     "output_type": "stream",
     "text": [
      "('car',)\n"
     ]
    }
   ],
   "source": [
    "for table in tables:\n",
    "    print(table)"
   ]
  },
  {
   "cell_type": "markdown",
   "metadata": {},
   "source": [
    "<b>Alter and display table</b>"
   ]
  },
  {
   "cell_type": "code",
   "execution_count": 17,
   "metadata": {},
   "outputs": [],
   "source": [
    "cursor.execute(\"alter table car add(id int(10)not null auto_increment primary key)\")"
   ]
  },
  {
   "cell_type": "code",
   "execution_count": 18,
   "metadata": {},
   "outputs": [],
   "source": [
    "cursor.execute(\"desc car\")"
   ]
  },
  {
   "cell_type": "code",
   "execution_count": 19,
   "metadata": {},
   "outputs": [
    {
     "name": "stdout",
     "output_type": "stream",
     "text": [
      "[('Brand', 'varchar(25)', 'YES', '', None, ''), ('Name', 'varchar(20)', 'YES', '', None, ''), ('price', 'int(10)', 'YES', '', None, ''), ('id', 'int(10)', 'NO', 'PRI', None, 'auto_increment')]\n"
     ]
    }
   ],
   "source": [
    "print(cursor.fetchall())"
   ]
  },
  {
   "cell_type": "code",
   "execution_count": 20,
   "metadata": {},
   "outputs": [
    {
     "name": "stdout",
     "output_type": "stream",
     "text": [
      "[('Brand', 'varchar(25)', 'YES', '', None, ''), ('Name', 'varchar(20)', 'YES', '', None, ''), ('price', 'int(10)', 'YES', '', None, '')]\n"
     ]
    }
   ],
   "source": [
    "cursor.execute(\"alter table car drop id\")\n",
    "cursor.execute(\"desc car\")\n",
    "print(cursor.fetchall())"
   ]
  },
  {
   "cell_type": "code",
   "execution_count": 21,
   "metadata": {},
   "outputs": [
    {
     "name": "stdout",
     "output_type": "stream",
     "text": [
      "[('id', 'int(10)', 'NO', 'PRI', None, 'auto_increment'), ('Brand', 'varchar(25)', 'YES', '', None, ''), ('Name', 'varchar(20)', 'YES', '', None, ''), ('price', 'int(10)', 'YES', '', None, '')]\n"
     ]
    }
   ],
   "source": [
    "cursor.execute(\"alter table car add column id int(10) not null auto_increment primary key first\")\n",
    "cursor.execute(\"desc car\")\n",
    "print(cursor.fetchall())"
   ]
  },
  {
   "cell_type": "markdown",
   "metadata": {},
   "source": [
    "<b>Inserting single record in table</b>"
   ]
  },
  {
   "cell_type": "code",
   "execution_count": 25,
   "metadata": {},
   "outputs": [
    {
     "name": "stdout",
     "output_type": "stream",
     "text": [
      "1 row inserted\n"
     ]
    }
   ],
   "source": [
    "query=\"insert into car(Brand,Name,price)values(%s,%s,%s)\"\n",
    "values=(\"Maruti\",\"Alto\",300000)\n",
    "cursor.execute(query,values)\n",
    "db.commit()\n",
    "print(cursor.rowcount,\"row inserted\")"
   ]
  },
  {
   "cell_type": "markdown",
   "metadata": {},
   "source": [
    "<b>Inserting Multiple record in table</b>"
   ]
  },
  {
   "cell_type": "code",
   "execution_count": 27,
   "metadata": {},
   "outputs": [
    {
     "name": "stdout",
     "output_type": "stream",
     "text": [
      "4 rows inserted\n"
     ]
    }
   ],
   "source": [
    "values=[(\"Scoda\",\"Fabia\",1000000),(\"Tata\",\"Safari\",1200000),(\"Huindai\",\"i20\",900000),(\"Renault\",\"Dustor\",1500000)]\n",
    "cursor.executemany(query,values)\n",
    "db.commit()\n",
    "print(cursor.rowcount,\"rows inserted\")"
   ]
  },
  {
   "cell_type": "markdown",
   "metadata": {},
   "source": [
    "<b>Selecting records from table</b>"
   ]
  },
  {
   "cell_type": "code",
   "execution_count": 28,
   "metadata": {},
   "outputs": [
    {
     "name": "stdout",
     "output_type": "stream",
     "text": [
      "(1, 'Maruti', 'Alto', 300000)\n",
      "(2, 'Scoda', 'Fabia', 1000000)\n",
      "(3, 'Tata', 'Safari', 1200000)\n",
      "(4, 'Huindai', 'i20', 900000)\n",
      "(5, 'Renault', 'Dustor', 1500000)\n"
     ]
    }
   ],
   "source": [
    "cursor.execute(\"select * from car\")\n",
    "records=cursor.fetchall()\n",
    "for record in records:\n",
    "    print(record)"
   ]
  },
  {
   "cell_type": "code",
   "execution_count": 29,
   "metadata": {
    "scrolled": true
   },
   "outputs": [
    {
     "name": "stdout",
     "output_type": "stream",
     "text": [
      "('Maruti',)\n",
      "('Scoda',)\n",
      "('Tata',)\n",
      "('Huindai',)\n",
      "('Renault',)\n"
     ]
    }
   ],
   "source": [
    "cursor.execute(\"select brand from car\")\n",
    "brands=cursor.fetchall()\n",
    "for brand in brands:\n",
    "    print(brand)"
   ]
  },
  {
   "cell_type": "code",
   "execution_count": 32,
   "metadata": {},
   "outputs": [
    {
     "name": "stdout",
     "output_type": "stream",
     "text": [
      "('Scoda', 'Fabia')\n",
      "('Huindai', 'i20')\n"
     ]
    }
   ],
   "source": [
    "cursor.execute(\"select brand, name from car where price > 500000 and price<=1000000\")\n",
    "records=cursor.fetchall()\n",
    "for record in records:\n",
    "    print(record)"
   ]
  },
  {
   "cell_type": "markdown",
   "metadata": {},
   "source": [
    "<b>Order by clause</b>"
   ]
  },
  {
   "cell_type": "code",
   "execution_count": 36,
   "metadata": {},
   "outputs": [
    {
     "name": "stdout",
     "output_type": "stream",
     "text": [
      "(4, 'Huindai', 'i20', 900000)\n",
      "(1, 'Maruti', 'Alto', 300000)\n",
      "(5, 'Renault', 'Dustor', 1500000)\n",
      "(2, 'Scoda', 'Fabia', 1000000)\n",
      "(3, 'Tata', 'Safari', 1200000)\n"
     ]
    }
   ],
   "source": [
    "cursor.execute(\"select * from car order by brand\")\n",
    "records=cursor.fetchall()\n",
    "for record in records:\n",
    "    print(record)"
   ]
  },
  {
   "cell_type": "markdown",
   "metadata": {},
   "source": [
    "<b>Delete record from table</b>"
   ]
  },
  {
   "cell_type": "code",
   "execution_count": 38,
   "metadata": {},
   "outputs": [
    {
     "name": "stdout",
     "output_type": "stream",
     "text": [
      "(1, 'Maruti', 'Alto', 300000)\n",
      "(2, 'Scoda', 'Fabia', 1000000)\n",
      "(3, 'Tata', 'Safari', 1200000)\n",
      "(4, 'Huindai', 'i20', 900000)\n"
     ]
    }
   ],
   "source": [
    "cursor.execute(\"delete from car where id=5\")\n",
    "db.commit()\n",
    "cursor.execute(\"select * from car\")\n",
    "records=cursor.fetchall()\n",
    "for record in records:\n",
    "    print(record)"
   ]
  },
  {
   "cell_type": "markdown",
   "metadata": {},
   "source": [
    "<b>Update record from table</b>"
   ]
  },
  {
   "cell_type": "code",
   "execution_count": 42,
   "metadata": {},
   "outputs": [
    {
     "name": "stdout",
     "output_type": "stream",
     "text": [
      "(1, 'Maruti', 'alto 800', 300000)\n",
      "(2, 'Scoda', 'Fabia', 1000000)\n",
      "(3, 'Tata', 'Safari', 1200000)\n",
      "(4, 'Huindai', 'i20', 900000)\n"
     ]
    }
   ],
   "source": [
    "cursor.execute(\"update car set name='alto 800' where brand='maruti'\")\n",
    "db.commit()\n",
    "cursor.execute(\"select * from car\")\n",
    "records=cursor.fetchall()\n",
    "for record in records:\n",
    "    print(record)"
   ]
  },
  {
   "cell_type": "code",
   "execution_count": 44,
   "metadata": {},
   "outputs": [
    {
     "name": "stdout",
     "output_type": "stream",
     "text": [
      "4 record inserted\n"
     ]
    }
   ],
   "source": [
    "query=(\"insert into car (brand,name,price)values (%s,%s,%s)\")\n",
    "values=[(\"Maruti\",\"Swift\",1200000),(\"Maruti\",\"Baleno\",950000),(\"Maruti\",\"WagonR\",600000),(\"Maruti\",\"Ecosport\",800000)]\n",
    "cursor.executemany(query,values)\n",
    "print(cursor.rowcount,\"record inserted\")"
   ]
  },
  {
   "cell_type": "markdown",
   "metadata": {},
   "source": [
    "<b>Group by and having clause</b>"
   ]
  },
  {
   "cell_type": "code",
   "execution_count": 58,
   "metadata": {},
   "outputs": [
    {
     "name": "stdout",
     "output_type": "stream",
     "text": [
      "('Huindai', Decimal('900000.0000'))\n",
      "('Scoda', Decimal('1000000.0000'))\n",
      "('Tata', Decimal('1200000.0000'))\n"
     ]
    }
   ],
   "source": [
    "cursor.execute(\"select brand,avg(price)from car group by brand having avg(price)>800000\")\n",
    "records=cursor.fetchall()\n",
    "for record in records:\n",
    "    print(record)"
   ]
  }
 ],
 "metadata": {
  "kernelspec": {
   "display_name": "Python 3",
   "language": "python",
   "name": "python3"
  },
  "language_info": {
   "codemirror_mode": {
    "name": "ipython",
    "version": 3
   },
   "file_extension": ".py",
   "mimetype": "text/x-python",
   "name": "python",
   "nbconvert_exporter": "python",
   "pygments_lexer": "ipython3",
   "version": "3.7.3"
  }
 },
 "nbformat": 4,
 "nbformat_minor": 2
}
