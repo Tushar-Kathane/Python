{
 "cells": [
  {
   "cell_type": "code",
   "execution_count": 1,
   "metadata": {},
   "outputs": [],
   "source": [
    "#importing libraries\n",
    "import pandas as pd\n",
    "import matplotlib.pyplot as plt\n",
    "import seaborn as sns\n",
    "import numpy as np\n",
    "from sklearn.model_selection import train_test_split\n",
    "import sklearn.metrics as metrics\n",
    "from sklearn.linear_model import LinearRegression\n",
    "from sklearn.preprocessing import StandardScaler\n",
    "from sklearn.preprocessing import MinMaxScaler"
   ]
  },
  {
   "cell_type": "code",
   "execution_count": 2,
   "metadata": {},
   "outputs": [],
   "source": [
    "df=pd.read_csv(\"CRUDE.csv\")\n"
   ]
  },
  {
   "cell_type": "code",
   "execution_count": 3,
   "metadata": {},
   "outputs": [
    {
     "data": {
      "text/plain": [
       "Open      False\n",
       "High      False\n",
       "Low       False\n",
       "Close     False\n",
       "Volume    False\n",
       "Target    False\n",
       "dtype: bool"
      ]
     },
     "execution_count": 3,
     "metadata": {},
     "output_type": "execute_result"
    }
   ],
   "source": [
    "df.isnull().any()"
   ]
  },
  {
   "cell_type": "code",
   "execution_count": 4,
   "metadata": {},
   "outputs": [],
   "source": [
    "X = df.iloc[:,0:5]  #independent columns\n",
    "Y = df.iloc[:,-1]"
   ]
  },
  {
   "cell_type": "code",
   "execution_count": 5,
   "metadata": {},
   "outputs": [],
   "source": [
    "Xscalar=StandardScaler()\n",
    "Yscalar=StandardScaler()\n",
    "X=Xscalar.fit_transform(X)\n",
    "Y=Y.values\n",
    "Y=Y.reshape(-1,1)\n",
    "Y=Yscalar.fit_transform(Y)\n"
   ]
  },
  {
   "cell_type": "code",
   "execution_count": 6,
   "metadata": {},
   "outputs": [],
   "source": [
    "X_train, X_test, Y_train, Y_test = train_test_split(X, Y, test_size = 0.33, random_state = 0)"
   ]
  },
  {
   "cell_type": "code",
   "execution_count": 7,
   "metadata": {},
   "outputs": [
    {
     "name": "stdout",
     "output_type": "stream",
     "text": [
      "No. of training examples: 6237 and its size is(5)\n",
      "No. of test examples : 3072 and its size is(5)\n"
     ]
    }
   ],
   "source": [
    "#printing no of train and test examples and its size\n",
    "print(\"No. of training examples:\",X_train.shape[0],\"and its size is(%d)\"%(X_train.shape[1]))\n",
    "print(\"No. of test examples :\",X_test.shape[0],\"and its size is(%d)\"%(X_test.shape[1]))"
   ]
  },
  {
   "cell_type": "code",
   "execution_count": 8,
   "metadata": {},
   "outputs": [
    {
     "name": "stderr",
     "output_type": "stream",
     "text": [
      "Using TensorFlow backend.\n"
     ]
    }
   ],
   "source": [
    "from keras.models import Sequential\n",
    "from keras.layers import Dense,Activation\n",
    "from keras.optimizers import SGD"
   ]
  },
  {
   "cell_type": "code",
   "execution_count": 9,
   "metadata": {},
   "outputs": [],
   "source": [
    "#some model parameters\n",
    "output_dim=1\n",
    "input_dim=X_train.shape[1]\n",
    "batch_size=50\n",
    "nb_epoch=50"
   ]
  },
  {
   "cell_type": "code",
   "execution_count": 10,
   "metadata": {},
   "outputs": [],
   "source": [
    "# define model\n",
    "model = Sequential()\n",
    "model.add(Dense(25, input_shape=(input_dim,), activation='relu', kernel_initializer='he_uniform'))\n",
    "model.add(Dense(10,activation='relu',kernel_initializer='he_uniform'))\n",
    "model.add(Dense(1, activation='linear'))\n",
    "model.compile(loss='mean_squared_error', optimizer='adam',metrics=['mean_squared_error'])\n",
    "\n",
    "\n",
    "# The Input Layer :\n",
    "#model.add(Dense(128, kernel_initializer='normal',input_shape=(input_dim,), activation='relu'))\n",
    "\n",
    "# The Hidden Layers :\n",
    "#model.add(Dense(256, kernel_initializer='normal',activation='relu'))\n",
    "#model.add(Dense(256, kernel_initializer='normal',activation='relu'))\n",
    "#model.add(Dense(256, kernel_initializer='normal',activation='relu'))\n",
    "\n",
    "# The Output Layer :\n",
    "#model.add(Dense(1, kernel_initializer='normal',activation='linear'))\n",
    "\n",
    "# Compile the network :\n",
    "#model.compile(loss='mean_absolute_error', optimizer='sgd', metrics=['mean_absolute_error'])\n"
   ]
  },
  {
   "cell_type": "code",
   "execution_count": 11,
   "metadata": {},
   "outputs": [
    {
     "name": "stdout",
     "output_type": "stream",
     "text": [
      "Train on 6237 samples, validate on 3072 samples\n",
      "Epoch 1/50\n",
      "6237/6237 [==============================] - 0s 60us/step - loss: 0.5696 - mean_squared_error: 0.5696 - val_loss: 0.2892 - val_mean_squared_error: 0.2892\n",
      "Epoch 2/50\n",
      "6237/6237 [==============================] - 0s 40us/step - loss: 0.2404 - mean_squared_error: 0.2404 - val_loss: 0.2100 - val_mean_squared_error: 0.2100\n",
      "Epoch 3/50\n",
      "6237/6237 [==============================] - 0s 39us/step - loss: 0.1788 - mean_squared_error: 0.1788 - val_loss: 0.1567 - val_mean_squared_error: 0.1567\n",
      "Epoch 4/50\n",
      "6237/6237 [==============================] - 0s 40us/step - loss: 0.1330 - mean_squared_error: 0.1330 - val_loss: 0.1164 - val_mean_squared_error: 0.1164\n",
      "Epoch 5/50\n",
      "6237/6237 [==============================] - 0s 41us/step - loss: 0.0534 - mean_squared_error: 0.0534 - val_loss: 0.0054 - val_mean_squared_error: 0.0054\n",
      "Epoch 6/50\n",
      "6237/6237 [==============================] - 0s 40us/step - loss: 0.0046 - mean_squared_error: 0.0046 - val_loss: 0.0038 - val_mean_squared_error: 0.0038\n",
      "Epoch 7/50\n",
      "6237/6237 [==============================] - 0s 40us/step - loss: 0.0036 - mean_squared_error: 0.0036 - val_loss: 0.0032 - val_mean_squared_error: 0.0032\n",
      "Epoch 8/50\n",
      "6237/6237 [==============================] - 0s 40us/step - loss: 0.0031 - mean_squared_error: 0.0031 - val_loss: 0.0028 - val_mean_squared_error: 0.0028\n",
      "Epoch 9/50\n",
      "6237/6237 [==============================] - 0s 49us/step - loss: 0.0028 - mean_squared_error: 0.0028 - val_loss: 0.0027 - val_mean_squared_error: 0.0027\n",
      "Epoch 10/50\n",
      "6237/6237 [==============================] - 0s 44us/step - loss: 0.0026 - mean_squared_error: 0.0026 - val_loss: 0.0026 - val_mean_squared_error: 0.0026\n",
      "Epoch 11/50\n",
      "6237/6237 [==============================] - 0s 44us/step - loss: 0.0026 - mean_squared_error: 0.0026 - val_loss: 0.0026 - val_mean_squared_error: 0.0026\n",
      "Epoch 12/50\n",
      "6237/6237 [==============================] - 0s 49us/step - loss: 0.0025 - mean_squared_error: 0.0025 - val_loss: 0.0024 - val_mean_squared_error: 0.0024\n",
      "Epoch 13/50\n",
      "6237/6237 [==============================] - 0s 50us/step - loss: 0.0025 - mean_squared_error: 0.0025 - val_loss: 0.0023 - val_mean_squared_error: 0.0023\n",
      "Epoch 14/50\n",
      "6237/6237 [==============================] - 0s 52us/step - loss: 0.0023 - mean_squared_error: 0.0023 - val_loss: 0.0023 - val_mean_squared_error: 0.0023\n",
      "Epoch 15/50\n",
      "6237/6237 [==============================] - 0s 54us/step - loss: 0.0023 - mean_squared_error: 0.0023 - val_loss: 0.0022 - val_mean_squared_error: 0.0022\n",
      "Epoch 16/50\n",
      "6237/6237 [==============================] - 0s 49us/step - loss: 0.0022 - mean_squared_error: 0.0022 - val_loss: 0.0024 - val_mean_squared_error: 0.0024\n",
      "Epoch 17/50\n",
      "6237/6237 [==============================] - 0s 43us/step - loss: 0.0021 - mean_squared_error: 0.0021 - val_loss: 0.0021 - val_mean_squared_error: 0.0021\n",
      "Epoch 18/50\n",
      "6237/6237 [==============================] - 0s 50us/step - loss: 0.0021 - mean_squared_error: 0.0021 - val_loss: 0.0021 - val_mean_squared_error: 0.0021\n",
      "Epoch 19/50\n",
      "6237/6237 [==============================] - 0s 45us/step - loss: 0.0020 - mean_squared_error: 0.0020 - val_loss: 0.0020 - val_mean_squared_error: 0.0020\n",
      "Epoch 20/50\n",
      "6237/6237 [==============================] - 0s 44us/step - loss: 0.0020 - mean_squared_error: 0.0020 - val_loss: 0.0022 - val_mean_squared_error: 0.0022\n",
      "Epoch 21/50\n",
      "6237/6237 [==============================] - 0s 41us/step - loss: 0.0019 - mean_squared_error: 0.0019 - val_loss: 0.0019 - val_mean_squared_error: 0.0019\n",
      "Epoch 22/50\n",
      "6237/6237 [==============================] - 0s 42us/step - loss: 0.0019 - mean_squared_error: 0.0019 - val_loss: 0.0019 - val_mean_squared_error: 0.0019\n",
      "Epoch 23/50\n",
      "6237/6237 [==============================] - 0s 40us/step - loss: 0.0019 - mean_squared_error: 0.0019 - val_loss: 0.0018 - val_mean_squared_error: 0.0018\n",
      "Epoch 24/50\n",
      "6237/6237 [==============================] - 0s 46us/step - loss: 0.0018 - mean_squared_error: 0.0018 - val_loss: 0.0019 - val_mean_squared_error: 0.0019\n",
      "Epoch 25/50\n",
      "6237/6237 [==============================] - 0s 45us/step - loss: 0.0018 - mean_squared_error: 0.0018 - val_loss: 0.0018 - val_mean_squared_error: 0.0018\n",
      "Epoch 26/50\n",
      "6237/6237 [==============================] - 0s 47us/step - loss: 0.0017 - mean_squared_error: 0.0017 - val_loss: 0.0018 - val_mean_squared_error: 0.0018\n",
      "Epoch 27/50\n",
      "6237/6237 [==============================] - 0s 40us/step - loss: 0.0018 - mean_squared_error: 0.0018 - val_loss: 0.0018 - val_mean_squared_error: 0.0018\n",
      "Epoch 28/50\n",
      "6237/6237 [==============================] - 0s 41us/step - loss: 0.0018 - mean_squared_error: 0.0018 - val_loss: 0.0022 - val_mean_squared_error: 0.0022\n",
      "Epoch 29/50\n",
      "6237/6237 [==============================] - 0s 41us/step - loss: 0.0017 - mean_squared_error: 0.0017 - val_loss: 0.0017 - val_mean_squared_error: 0.0017\n",
      "Epoch 30/50\n",
      "6237/6237 [==============================] - 0s 41us/step - loss: 0.0017 - mean_squared_error: 0.0017 - val_loss: 0.0022 - val_mean_squared_error: 0.0022\n",
      "Epoch 31/50\n",
      "6237/6237 [==============================] - 0s 40us/step - loss: 0.0017 - mean_squared_error: 0.0017 - val_loss: 0.0020 - val_mean_squared_error: 0.0020\n",
      "Epoch 32/50\n",
      "6237/6237 [==============================] - 0s 40us/step - loss: 0.0016 - mean_squared_error: 0.0016 - val_loss: 0.0017 - val_mean_squared_error: 0.0017\n",
      "Epoch 33/50\n",
      "6237/6237 [==============================] - 0s 40us/step - loss: 0.0016 - mean_squared_error: 0.0016 - val_loss: 0.0017 - val_mean_squared_error: 0.0017\n",
      "Epoch 34/50\n",
      "6237/6237 [==============================] - 0s 40us/step - loss: 0.0016 - mean_squared_error: 0.0016 - val_loss: 0.0016 - val_mean_squared_error: 0.0016\n",
      "Epoch 35/50\n",
      "6237/6237 [==============================] - 0s 40us/step - loss: 0.0017 - mean_squared_error: 0.0017 - val_loss: 0.0018 - val_mean_squared_error: 0.0018\n",
      "Epoch 36/50\n",
      "6237/6237 [==============================] - 0s 41us/step - loss: 0.0016 - mean_squared_error: 0.0016 - val_loss: 0.0016 - val_mean_squared_error: 0.0016\n",
      "Epoch 37/50\n",
      "6237/6237 [==============================] - 0s 39us/step - loss: 0.0016 - mean_squared_error: 0.0016 - val_loss: 0.0017 - val_mean_squared_error: 0.0017\n",
      "Epoch 38/50\n",
      "6237/6237 [==============================] - 0s 39us/step - loss: 0.0017 - mean_squared_error: 0.0017 - val_loss: 0.0016 - val_mean_squared_error: 0.0016\n",
      "Epoch 39/50\n",
      "6237/6237 [==============================] - 0s 40us/step - loss: 0.0015 - mean_squared_error: 0.0015 - val_loss: 0.0016 - val_mean_squared_error: 0.0016\n",
      "Epoch 40/50\n",
      "6237/6237 [==============================] - 0s 40us/step - loss: 0.0016 - mean_squared_error: 0.0016 - val_loss: 0.0017 - val_mean_squared_error: 0.0017\n",
      "Epoch 41/50\n",
      "6237/6237 [==============================] - 0s 41us/step - loss: 0.0016 - mean_squared_error: 0.0016 - val_loss: 0.0017 - val_mean_squared_error: 0.0017\n",
      "Epoch 42/50\n",
      "6237/6237 [==============================] - 0s 41us/step - loss: 0.0016 - mean_squared_error: 0.0016 - val_loss: 0.0016 - val_mean_squared_error: 0.0016\n",
      "Epoch 43/50\n",
      "6237/6237 [==============================] - 0s 53us/step - loss: 0.0015 - mean_squared_error: 0.0015 - val_loss: 0.0016 - val_mean_squared_error: 0.0016\n",
      "Epoch 44/50\n",
      "6237/6237 [==============================] - 0s 47us/step - loss: 0.0015 - mean_squared_error: 0.0015 - val_loss: 0.0016 - val_mean_squared_error: 0.0016\n",
      "Epoch 45/50\n",
      "6237/6237 [==============================] - 0s 51us/step - loss: 0.0015 - mean_squared_error: 0.0015 - val_loss: 0.0015 - val_mean_squared_error: 0.0015\n",
      "Epoch 46/50\n",
      "6237/6237 [==============================] - 0s 51us/step - loss: 0.0016 - mean_squared_error: 0.0016 - val_loss: 0.0015 - val_mean_squared_error: 0.0015\n",
      "Epoch 47/50\n",
      "6237/6237 [==============================] - 0s 40us/step - loss: 0.0015 - mean_squared_error: 0.0015 - val_loss: 0.0016 - val_mean_squared_error: 0.0016\n",
      "Epoch 48/50\n",
      "6237/6237 [==============================] - 0s 40us/step - loss: 0.0016 - mean_squared_error: 0.0016 - val_loss: 0.0016 - val_mean_squared_error: 0.0016\n",
      "Epoch 49/50\n",
      "6237/6237 [==============================] - 0s 41us/step - loss: 0.0015 - mean_squared_error: 0.0015 - val_loss: 0.0016 - val_mean_squared_error: 0.0016\n",
      "Epoch 50/50\n"
     ]
    },
    {
     "name": "stdout",
     "output_type": "stream",
     "text": [
      "6237/6237 [==============================] - 0s 44us/step - loss: 0.0015 - mean_squared_error: 0.0015 - val_loss: 0.0015 - val_mean_squared_error: 0.0015\n"
     ]
    }
   ],
   "source": [
    "#configuring model\n",
    "history=model.fit(X_train,Y_train,batch_size=batch_size,epochs=nb_epoch,verbose=1,validation_data=[X_test,Y_test])"
   ]
  },
  {
   "cell_type": "code",
   "execution_count": 18,
   "metadata": {},
   "outputs": [
    {
     "name": "stdout",
     "output_type": "stream",
     "text": [
      "Train MSE : [0.0014425793075308392, 0.0014425793197005987] Test MSE: [0.0015305340693885228, 0.0015305341221392155]\n"
     ]
    },
    {
     "data": {
      "image/png": "[encoded data removed]",
      "text/plain": [
       "<Figure size 432x288 with 1 Axes>"
      ]
     },
     "metadata": {
      "needs_background": "light"
     },
     "output_type": "display_data"
    }
   ],
   "source": [
    "train_mse = model.evaluate(X_train, Y_train, verbose=0)\n",
    "test_mse = model.evaluate(X_test, Y_test, verbose=0)\n",
    "print('Train MSE :',train_mse,'Test MSE:', test_mse)\n",
    "\n",
    "# plot loss during training\n",
    "plt.title('Loss / Mean Squared Error')\n",
    "plt.plot(history.history['loss'], label='train')\n",
    "plt.plot(history.history['val_loss'], label='test')\n",
    "plt.legend()\n",
    "plt.show()\n"
   ]
  },
  {
   "cell_type": "code",
   "execution_count": 19,
   "metadata": {},
   "outputs": [],
   "source": [
    "df_Test1=pd.read_csv(\"CRUDE_TEST.csv\")\n"
   ]
  },
  {
   "cell_type": "code",
   "execution_count": 20,
   "metadata": {},
   "outputs": [
    {
     "data": {
      "text/plain": [
       "Open      False\n",
       "High      False\n",
       "Low       False\n",
       "Close     False\n",
       "Volume    False\n",
       "Target     True\n",
       "dtype: bool"
      ]
     },
     "execution_count": 20,
     "metadata": {},
     "output_type": "execute_result"
    }
   ],
   "source": [
    "df_Test1.isnull().any()"
   ]
  },
  {
   "cell_type": "code",
   "execution_count": 21,
   "metadata": {},
   "outputs": [],
   "source": [
    "df_Test1=df_Test1.drop('Target',axis=1)"
   ]
  },
  {
   "cell_type": "code",
   "execution_count": 22,
   "metadata": {},
   "outputs": [],
   "source": [
    "TestX=Xscalar.fit_transform(df_Test1)"
   ]
  },
  {
   "cell_type": "code",
   "execution_count": 23,
   "metadata": {},
   "outputs": [
    {
     "name": "stdout",
     "output_type": "stream",
     "text": [
      "[[ 0.8026978 ]\n",
      " [ 1.0099536 ]\n",
      " [ 1.1710789 ]\n",
      " [ 1.1311793 ]\n",
      " [ 0.96553206]\n",
      " [ 0.39267108]\n",
      " [-0.89553523]\n",
      " [-0.57235134]\n",
      " [-0.8274524 ]\n",
      " [-0.5357683 ]\n",
      " [-1.1128823 ]]\n"
     ]
    }
   ],
   "source": [
    "Y_pred = model.predict(TestX)\n",
    "print(Y_pred)"
   ]
  },
  {
   "cell_type": "code",
   "execution_count": 24,
   "metadata": {},
   "outputs": [
    {
     "data": {
      "text/plain": [
       "array([[66.21552 ],\n",
       "       [72.11366 ],\n",
       "       [76.69901 ],\n",
       "       [75.56354 ],\n",
       "       [70.8495  ],\n",
       "       [54.54687 ],\n",
       "       [17.886738],\n",
       "       [27.083994],\n",
       "       [19.824257],\n",
       "       [28.125086],\n",
       "       [11.701415]], dtype=float32)"
      ]
     },
     "execution_count": 24,
     "metadata": {},
     "output_type": "execute_result"
    }
   ],
   "source": [
    "Y_pred_inverse=Yscalar.inverse_transform(Y_pred)\n",
    "Y_pred_inverse"
   ]
  }
 ],
 "metadata": {
  "kernelspec": {
   "display_name": "Python 3",
   "language": "python",
   "name": "python3"
  },
  "language_info": {
   "codemirror_mode": {
    "name": "ipython",
    "version": 3
   },
   "file_extension": ".py",
   "mimetype": "text/x-python",
   "name": "python",
   "nbconvert_exporter": "python",
   "pygments_lexer": "ipython3",
   "version": "3.7.3"
  }
 },
 "nbformat": 4,
 "nbformat_minor": 2
}
